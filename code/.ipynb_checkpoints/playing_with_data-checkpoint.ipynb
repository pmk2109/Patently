{
 "cells": [
  {
   "cell_type": "code",
   "execution_count": 9,
   "metadata": {
    "collapsed": false
   },
   "outputs": [],
   "source": [
    "import re\n",
    "import tinys3\n",
    "import xml.etree.ElementTree as ET\n",
    "from urllib import urlopen, urlretrieve, quote\n",
    "from urlparse import urljoin\n",
    "from bs4 import BeautifulSoup\n",
    "import zipfile\n",
    "import csv\n",
    "import boto3\n",
    "import ftplib\n",
    "import gzip\n",
    "import io\n",
    "import zipfile\n",
    "import os\n",
    "import time\n",
    "\n",
    "DATA_PATH = '/Users/patrickkennedy/Desktop/Data_Science/PatentProject/data/ipg160628.xml'\n",
    "ZIP_PATH = '/Users/patrickkennedy/Desktop/Data_Science/PatentProject/code/'\n",
    "EXTRACT_DATA_PATH = '/Users/patrickkennedy/Desktop/Data_Science/PatentProject/data/'\n",
    "\n",
    "################################################################\n",
    "########### THIS NEXT PART ACTUALLY WORKS BUT IS MESSY #########\n",
    "################################################################\n",
    "\n",
    "def open_many(n):\n",
    "\n",
    "    endtag_regex = re.compile('^<!DOCTYPE (.*) SYSTEM')\n",
    "    endtag = ''\n",
    "    doc_list = []\n",
    "    counter = 0\n",
    "\n",
    "    with open(DATA_PATH, 'r') as f:\n",
    "        doc = []  # (re)initialize current XML doc to empty list\n",
    "        for line in f:\n",
    "            doc.append(line)\n",
    "            endtag = endtag_regex.findall(line) if not endtag else endtag\n",
    "            if not endtag:\n",
    "                continue\n",
    "            terminate = re.compile('^</{0}>'.format(endtag[0]))\n",
    "            if terminate.findall(line):\n",
    "                doc_list.append(doc)\n",
    "                doc = []\n",
    "                counter += 1\n",
    "                if counter == n:\n",
    "                    return doc_list\n",
    "\n",
    "                # yield (_get_date(filename), doc)\n",
    "                # endtag = ''\n",
    "                # doc = ''\n",
    "\n",
    "\n",
    "def open_all():\n",
    "\n",
    "    endtag_regex = re.compile('^<!DOCTYPE (.*) SYSTEM')\n",
    "    endtag = ''\n",
    "    doc_list = []\n",
    "    counter = 0\n",
    "\n",
    "    with open(DATA_PATH, 'r') as f:\n",
    "        doc = []  # (re)initialize current XML doc to empty list\n",
    "        for line in f:\n",
    "            doc.append(line)\n",
    "            endtag = endtag_regex.findall(line) if not endtag else endtag\n",
    "            if not endtag:\n",
    "                continue\n",
    "            terminate = re.compile('^</{0}>'.format(endtag[0]))\n",
    "            if terminate.findall(line):\n",
    "                doc_list.append(doc)\n",
    "                doc = []\n",
    "        return doc_list\n",
    "                \n",
    "                # yield (_get_date(filename), doc)\n",
    "                # endtag = ''\n",
    "                # doc = ''"
   ]
  },
  {
   "cell_type": "code",
   "execution_count": 100,
   "metadata": {
    "collapsed": false
   },
   "outputs": [],
   "source": [
    "# num_patents = 1000\n",
    "counter = 0\n",
    "data = open_many(1)\n",
    "for i in xrange(len(data)):\n",
    "    data_as_string = \"\".join(data[i])\n",
    "    try:\n",
    "        root = ET.fromstring(data_as_string)\n",
    "    except:\n",
    "        counter += 1\n",
    "\n",
    "# data = open_all()\n",
    "#this first toy file has 4046 (i think) files\n",
    "#let's see how many are junked.... --> 89"
   ]
  },
  {
   "cell_type": "code",
   "execution_count": null,
   "metadata": {
    "collapsed": false
   },
   "outputs": [],
   "source": []
  },
  {
   "cell_type": "code",
   "execution_count": 101,
   "metadata": {
    "collapsed": false
   },
   "outputs": [
    {
     "name": "stdout",
     "output_type": "stream",
     "text": [
      "<Element 'description-of-drawings' at 0x10fbe0d10>\n"
     ]
    }
   ],
   "source": [
    "for child in root:\n",
    "    if child.tag == 'description':\n",
    "        for c in child:\n",
    "            print c\n",
    "#     for c in child:\n",
    "#         for e in c:\n",
    "#             print e.tag, e.attrib\n"
   ]
  },
  {
   "cell_type": "code",
   "execution_count": 102,
   "metadata": {
    "collapsed": false
   },
   "outputs": [],
   "source": [
    "#data_as_string = \"\".join(data[291])\n",
    "root = ET.fromstring(data_as_string)\n"
   ]
  },
  {
   "cell_type": "code",
   "execution_count": 103,
   "metadata": {
    "collapsed": false
   },
   "outputs": [
    {
     "name": "stdout",
     "output_type": "stream",
     "text": [
      "claim {'num': '00001', 'id': 'CLM-00001'}\n",
      "The ornamental design for a chocolate-covered confection, as shown and described.\n"
     ]
    }
   ],
   "source": [
    "for child in root:\n",
    "#     print child.tag, child.attrib\n",
    "#     if child.tag == 'abstract':\n",
    "#         for c in child:\n",
    "#             print c.text\n",
    "#     if child.tag == 'description':\n",
    "#         for c in child:\n",
    "#             print c.text\n",
    "    if child.tag == 'claims':\n",
    "        for c in child:\n",
    "            print c.tag, c.attrib\n",
    "            for cs in c:\n",
    "                print cs.text"
   ]
  },
  {
   "cell_type": "code",
   "execution_count": 104,
   "metadata": {
    "collapsed": false
   },
   "outputs": [
    {
     "data": {
      "text/plain": [
       "'<?xml version=\"1.0\" encoding=\"UTF-8\"?>\\r\\n<!DOCTYPE us-patent-grant SYSTEM \"us-patent-grant-v45-2014-04-03.dtd\" [ ]>\\r\\n<us-patent-grant lang=\"EN\" dtd-version=\"v4.5 2014-04-03\" file=\"USD0759941-20160628.XML\" status=\"PRODUCTION\" id=\"us-patent-grant\" country=\"US\" date-produced=\"20160613\" date-publ=\"20160628\">\\r\\n<us-bibliographic-data-grant>\\r\\n<publication-reference>\\r\\n<document-id>\\r\\n<country>US</country>\\r\\n<doc-number>D0759941</doc-number>\\r\\n<kind>S1</kind>\\r\\n<date>20160628</date>\\r\\n</document-id>\\r\\n</publication-reference>\\r\\n<application-reference appl-type=\"design\">\\r\\n<document-id>\\r\\n<country>US</country>\\r\\n<doc-number>29506777</doc-number>\\r\\n<date>20141020</date>\\r\\n</document-id>\\r\\n</application-reference>\\r\\n<us-application-series-code>29</us-application-series-code>\\r\\n<priority-claims>\\r\\n<priority-claim sequence=\"01\" kind=\"regional\">\\r\\n<country>EM</country>\\r\\n<doc-number>002450080-0008</doc-number>\\r\\n<date>20140418</date>\\r\\n</priority-claim>\\r\\n</priority-claims>\\r\\n<us-term-of-grant>\\r\\n<length-of-grant>14</length-of-grant>\\r\\n<disclaimer>\\r\\n<text>This patent is subject to a terminal disclaimer.</text>\\r\\n</disclaimer>\\r\\n</us-term-of-grant>\\r\\n<classification-locarno>\\r\\n<edition>10</edition>\\r\\n<main-classification>0101</main-classification>\\r\\n</classification-locarno>\\r\\n<classification-national>\\r\\n<country>US</country>\\r\\n<main-classification>D 1121</main-classification>\\r\\n<further-classification> D1127</further-classification>\\r\\n</classification-national>\\r\\n<invention-title id=\"d2e73\">Chocolate-covered confection</invention-title>\\r\\n<us-references-cited>\\r\\n<us-citation>\\r\\n<patcit num=\"00001\">\\r\\n<document-id>\\r\\n<country>US</country>\\r\\n<doc-number>D25934</doc-number>\\r\\n<kind>S</kind>\\r\\n<name>Kolb</name>\\r\\n<date>18960800</date>\\r\\n</document-id>\\r\\n</patcit>\\r\\n<category>cited by examiner</category>\\r\\n<classification-national><country>US</country><main-classification>D 1121</main-classification></classification-national>\\r\\n</us-citation>\\r\\n<us-citation>\\r\\n<patcit num=\"00002\">\\r\\n<document-id>\\r\\n<country>US</country>\\r\\n<doc-number>D90687</doc-number>\\r\\n<kind>S</kind>\\r\\n<name>Sherrill</name>\\r\\n<date>19330900</date>\\r\\n</document-id>\\r\\n</patcit>\\r\\n<category>cited by examiner</category>\\r\\n<classification-national><country>US</country><main-classification>D 1121</main-classification></classification-national>\\r\\n</us-citation>\\r\\n<us-citation>\\r\\n<patcit num=\"00003\">\\r\\n<document-id>\\r\\n<country>US</country>\\r\\n<doc-number>D98858</doc-number>\\r\\n<kind>S</kind>\\r\\n<name>Gager</name>\\r\\n<date>19360300</date>\\r\\n</document-id>\\r\\n</patcit>\\r\\n<category>cited by examiner</category>\\r\\n<classification-national><country>US</country><main-classification>424467</main-classification></classification-national>\\r\\n</us-citation>\\r\\n<us-citation>\\r\\n<patcit num=\"00004\">\\r\\n<document-id>\\r\\n<country>US</country>\\r\\n<doc-number>D170362</doc-number>\\r\\n<kind>S</kind>\\r\\n<name>Opler</name>\\r\\n<date>19530900</date>\\r\\n</document-id>\\r\\n</patcit>\\r\\n<category>cited by examiner</category>\\r\\n<classification-national><country>US</country><main-classification>D 1121</main-classification></classification-national>\\r\\n</us-citation>\\r\\n<us-citation>\\r\\n<patcit num=\"00005\">\\r\\n<document-id>\\r\\n<country>US</country>\\r\\n<doc-number>4455320</doc-number>\\r\\n<kind>A</kind>\\r\\n<name>Syrmis</name>\\r\\n<date>19840600</date>\\r\\n</document-id>\\r\\n</patcit>\\r\\n<category>cited by examiner</category>\\r\\n<classification-cpc-text>A23G 1/205</classification-cpc-text>\\r\\n<classification-national><country>US</country><main-classification>101 32</main-classification></classification-national>\\r\\n</us-citation>\\r\\n<us-citation>\\r\\n<patcit num=\"00006\">\\r\\n<document-id>\\r\\n<country>US</country>\\r\\n<doc-number>D429866</doc-number>\\r\\n<kind>S</kind>\\r\\n<name>Zhang</name>\\r\\n<date>20000800</date>\\r\\n</document-id>\\r\\n</patcit>\\r\\n<category>cited by examiner</category>\\r\\n<classification-national><country>US</country><main-classification>D 1121</main-classification></classification-national>\\r\\n</us-citation>\\r\\n<us-citation>\\r\\n<patcit num=\"00007\">\\r\\n<document-id>\\r\\n<country>US</country>\\r\\n<doc-number>D431891</doc-number>\\r\\n<kind>S</kind>\\r\\n<name>Zhang</name>\\r\\n<date>20001000</date>\\r\\n</document-id>\\r\\n</patcit>\\r\\n<category>cited by examiner</category>\\r\\n<classification-national><country>US</country><main-classification>D 1121</main-classification></classification-national>\\r\\n</us-citation>\\r\\n<us-citation>\\r\\n<patcit num=\"00008\">\\r\\n<document-id>\\r\\n<country>US</country>\\r\\n<doc-number>D497466</doc-number>\\r\\n<kind>S</kind>\\r\\n<name>Van De Wal</name>\\r\\n<date>20041000</date>\\r\\n</document-id>\\r\\n</patcit>\\r\\n<category>cited by examiner</category>\\r\\n<classification-national><country>US</country><main-classification>D 1127</main-classification></classification-national>\\r\\n</us-citation>\\r\\n<us-citation>\\r\\n<patcit num=\"00009\">\\r\\n<document-id>\\r\\n<country>US</country>\\r\\n<doc-number>D560326</doc-number>\\r\\n<kind>S</kind>\\r\\n<name>Bruno</name>\\r\\n<date>20080100</date>\\r\\n</document-id>\\r\\n</patcit>\\r\\n<category>cited by examiner</category>\\r\\n<classification-national><country>US</country><main-classification>D 1121</main-classification></classification-national>\\r\\n</us-citation>\\r\\n<us-citation>\\r\\n<patcit num=\"00010\">\\r\\n<document-id>\\r\\n<country>US</country>\\r\\n<doc-number>D591927</doc-number>\\r\\n<kind>S</kind>\\r\\n<name>Wilson</name>\\r\\n<date>20090500</date>\\r\\n</document-id>\\r\\n</patcit>\\r\\n<category>cited by examiner</category>\\r\\n<classification-national><country>US</country><main-classification>D 1127</main-classification></classification-national>\\r\\n</us-citation>\\r\\n<us-citation>\\r\\n<patcit num=\"00011\">\\r\\n<document-id>\\r\\n<country>US</country>\\r\\n<doc-number>D594181</doc-number>\\r\\n<kind>S</kind>\\r\\n<name>Wilson</name>\\r\\n<date>20090600</date>\\r\\n</document-id>\\r\\n</patcit>\\r\\n<category>cited by examiner</category>\\r\\n<classification-national><country>US</country><main-classification>D 1127</main-classification></classification-national>\\r\\n</us-citation>\\r\\n<us-citation>\\r\\n<patcit num=\"00012\">\\r\\n<document-id>\\r\\n<country>US</country>\\r\\n<doc-number>D613028</doc-number>\\r\\n<kind>S</kind>\\r\\n<name>Hartmann</name>\\r\\n<date>20100400</date>\\r\\n</document-id>\\r\\n</patcit>\\r\\n<category>cited by examiner</category>\\r\\n<classification-national><country>US</country><main-classification>D 1121</main-classification></classification-national>\\r\\n</us-citation>\\r\\n<us-citation>\\r\\n<patcit num=\"00013\">\\r\\n<document-id>\\r\\n<country>US</country>\\r\\n<doc-number>D627127</doc-number>\\r\\n<kind>S</kind>\\r\\n<name>Wilson</name>\\r\\n<date>20101100</date>\\r\\n</document-id>\\r\\n</patcit>\\r\\n<category>cited by examiner</category>\\r\\n<classification-national><country>US</country><main-classification>D 1121</main-classification></classification-national>\\r\\n</us-citation>\\r\\n<us-citation>\\r\\n<patcit num=\"00014\">\\r\\n<document-id>\\r\\n<country>US</country>\\r\\n<doc-number>D655066</doc-number>\\r\\n<kind>S</kind>\\r\\n<name>Grolimund</name>\\r\\n<date>20120300</date>\\r\\n</document-id>\\r\\n</patcit>\\r\\n<category>cited by examiner</category>\\r\\n<classification-national><country>US</country><main-classification>D 1121</main-classification></classification-national>\\r\\n</us-citation>\\r\\n<us-citation>\\r\\n<patcit num=\"00015\">\\r\\n<document-id>\\r\\n<country>US</country>\\r\\n<doc-number>D658846</doc-number>\\r\\n<kind>S</kind>\\r\\n<name>Greer</name>\\r\\n<date>20120500</date>\\r\\n</document-id>\\r\\n</patcit>\\r\\n<category>cited by examiner</category>\\r\\n<classification-national><country>US</country><main-classification>D 1121</main-classification></classification-national>\\r\\n</us-citation>\\r\\n<us-citation>\\r\\n<patcit num=\"00016\">\\r\\n<document-id>\\r\\n<country>US</country>\\r\\n<doc-number>D659946</doc-number>\\r\\n<kind>S</kind>\\r\\n<name>Fujioka</name>\\r\\n<date>20120500</date>\\r\\n</document-id>\\r\\n</patcit>\\r\\n<category>cited by examiner</category>\\r\\n<classification-national><country>US</country><main-classification>D 1121</main-classification></classification-national>\\r\\n</us-citation>\\r\\n<us-citation>\\r\\n<patcit num=\"00017\">\\r\\n<document-id>\\r\\n<country>US</country>\\r\\n<doc-number>D712616</doc-number>\\r\\n<kind>S</kind>\\r\\n<name>Moore</name>\\r\\n<date>20140900</date>\\r\\n</document-id>\\r\\n</patcit>\\r\\n<category>cited by examiner</category>\\r\\n<classification-national><country>US</country><main-classification>D 1121</main-classification></classification-national>\\r\\n</us-citation>\\r\\n<us-citation>\\r\\n<patcit num=\"00018\">\\r\\n<document-id>\\r\\n<country>US</country>\\r\\n<doc-number>D719719</doc-number>\\r\\n<kind>S</kind>\\r\\n<name>Grolimund</name>\\r\\n<date>20141200</date>\\r\\n</document-id>\\r\\n</patcit>\\r\\n<category>cited by examiner</category>\\r\\n<classification-national><country>US</country><main-classification>D 1121</main-classification></classification-national>\\r\\n</us-citation>\\r\\n<us-citation>\\r\\n<nplcit num=\"00019\">\\r\\n<othercit>Gardner, Amanda. &#x201c;Chocolate may lower men\\'s stroke risk.&#x201d; CNN Health. Aug. 29, 2012. Web. Oct. 28, 2014. &#x3c;http://www.cnn.com/2012/08/29/health/chocolate-stroke/&#x3e;.</othercit>\\r\\n</nplcit>\\r\\n<category>cited by examiner</category>\\r\\n</us-citation>\\r\\n</us-references-cited>\\r\\n<number-of-claims>1</number-of-claims>\\r\\n<us-exemplary-claim>1</us-exemplary-claim>\\r\\n<us-field-of-classification-search>\\r\\n<classification-national>\\r\\n<country>US</country>\\r\\n<main-classification>D 1100-130</main-classification>\\r\\n<additional-info>unstructured</additional-info>\\r\\n</classification-national>\\r\\n<classification-national>\\r\\n<country>US</country>\\r\\n<main-classification>D 1199</main-classification>\\r\\n</classification-national>\\r\\n<classification-national>\\r\\n<country>US</country>\\r\\n<main-classification>426  5</main-classification>\\r\\n</classification-national>\\r\\n<classification-national>\\r\\n<country>US</country>\\r\\n<main-classification>426104</main-classification>\\r\\n</classification-national>\\r\\n<classification-national>\\r\\n<country>US</country>\\r\\n<main-classification>426249</main-classification>\\r\\n</classification-national>\\r\\n<classification-national>\\r\\n<country>US</country>\\r\\n<main-classification>426275</main-classification>\\r\\n</classification-national>\\r\\n<classification-national>\\r\\n<country>US</country>\\r\\n<main-classification>426660</main-classification>\\r\\n</classification-national>\\r\\n<classification-national>\\r\\n<country>US</country>\\r\\n<main-classification>D24101-104</main-classification>\\r\\n<additional-info>unstructured</additional-info>\\r\\n</classification-national>\\r\\n<classification-national>\\r\\n<country>US</country>\\r\\n<main-classification>273429</main-classification>\\r\\n</classification-national>\\r\\n<classification-national>\\r\\n<country>US</country>\\r\\n<main-classification>D 9707</main-classification>\\r\\n</classification-national>\\r\\n<classification-national>\\r\\n<country>US</country>\\r\\n<main-classification>D28  81</main-classification>\\r\\n</classification-national>\\r\\n<classification-national>\\r\\n<country>US</country>\\r\\n<main-classification>D14433</main-classification>\\r\\n</classification-national>\\r\\n<classification-national>\\r\\n<country>US</country>\\r\\n<main-classification>D 7354</main-classification>\\r\\n</classification-national>\\r\\n<classification-national>\\r\\n<country>US</country>\\r\\n<main-classification>D 7359</main-classification>\\r\\n</classification-national>\\r\\n<classification-national>\\r\\n<country>US</country>\\r\\n<main-classification>D 7391</main-classification>\\r\\n</classification-national>\\r\\n<classification-national>\\r\\n<country>US</country>\\r\\n<main-classification>D 7672</main-classification>\\r\\n</classification-national>\\r\\n<classification-national>\\r\\n<country>US</country>\\r\\n<main-classification>D15 90</main-classification>\\r\\n</classification-national>\\r\\n<classification-cpc-text>A23G 3/54</classification-cpc-text>\\r\\n<classification-cpc-text>A23G 4/20</classification-cpc-text>\\r\\n<classification-cpc-text>A23G 3/343</classification-cpc-text>\\r\\n<classification-cpc-text>A23G 3/36</classification-cpc-text>\\r\\n<classification-cpc-text>A23G 3/28</classification-cpc-text>\\r\\n<classification-cpc-text>A61K 9/2072</classification-cpc-text>\\r\\n<classification-cpc-text>A61K 9/2095</classification-cpc-text>\\r\\n</us-field-of-classification-search>\\r\\n<figures>\\r\\n<number-of-drawing-sheets>3</number-of-drawing-sheets>\\r\\n<number-of-figures>4</number-of-figures>\\r\\n</figures>\\r\\n<us-parties>\\r\\n<us-applicants>\\r\\n<us-applicant sequence=\"001\" app-type=\"applicant\" designation=\"us-only\" applicant-authority-category=\"assignee\">\\r\\n<addressbook>\\r\\n<orgname>CEMOI</orgname>\\r\\n<address>\\r\\n<city>Perpignan</city>\\r\\n<country>FR</country>\\r\\n</address>\\r\\n</addressbook>\\r\\n<residence>\\r\\n<country>FR</country>\\r\\n</residence>\\r\\n</us-applicant>\\r\\n</us-applicants>\\r\\n<inventors>\\r\\n<inventor sequence=\"001\" designation=\"us-only\">\\r\\n<addressbook>\\r\\n<last-name>Baker</last-name>\\r\\n<first-name>Alan</first-name>\\r\\n<address>\\r\\n<city>Merthyr Tydfil</city>\\r\\n<country>GB</country>\\r\\n</address>\\r\\n</addressbook>\\r\\n</inventor>\\r\\n<inventor sequence=\"002\" designation=\"us-only\">\\r\\n<addressbook>\\r\\n<last-name>Smith</last-name>\\r\\n<first-name>Peter</first-name>\\r\\n<address>\\r\\n<city>Merthyr Tydfil</city>\\r\\n<country>GB</country>\\r\\n</address>\\r\\n</addressbook>\\r\\n</inventor>\\r\\n<inventor sequence=\"003\" designation=\"us-only\">\\r\\n<addressbook>\\r\\n<last-name>Tomlison</last-name>\\r\\n<first-name>Bruce</first-name>\\r\\n<address>\\r\\n<city>Merthyr Tydfil</city>\\r\\n<country>GB</country>\\r\\n</address>\\r\\n</addressbook>\\r\\n</inventor>\\r\\n</inventors>\\r\\n<agents>\\r\\n<agent sequence=\"01\" rep-type=\"attorney\">\\r\\n<addressbook>\\r\\n<last-name>Trenkle</last-name>\\r\\n<first-name>Nicholas</first-name>\\r\\n<address>\\r\\n<country>unknown</country>\\r\\n</address>\\r\\n</addressbook>\\r\\n</agent>\\r\\n<agent sequence=\"02\" rep-type=\"attorney\">\\r\\n<addressbook>\\r\\n<orgname>Stites &#x26; Harbison, PLLC</orgname>\\r\\n<address>\\r\\n<country>unknown</country>\\r\\n</address>\\r\\n</addressbook>\\r\\n</agent>\\r\\n</agents>\\r\\n</us-parties>\\r\\n<assignees>\\r\\n<assignee>\\r\\n<addressbook>\\r\\n<orgname>CEMOI</orgname>\\r\\n<role>03</role>\\r\\n<address>\\r\\n<city>Perpignan</city>\\r\\n<country>FR</country>\\r\\n</address>\\r\\n</addressbook>\\r\\n</assignee>\\r\\n</assignees>\\r\\n<examiners>\\r\\n<primary-examiner>\\r\\n<last-name>Pratt</last-name>\\r\\n<first-name>Deanna L</first-name>\\r\\n<department>2911</department>\\r\\n</primary-examiner>\\r\\n<assistant-examiner>\\r\\n<last-name>Mroczka</last-name>\\r\\n<first-name>Katie</first-name>\\r\\n</assistant-examiner>\\r\\n</examiners>\\r\\n</us-bibliographic-data-grant>\\r\\n<drawings id=\"DRAWINGS\">\\r\\n<figure id=\"Fig-EMI-D00000\" num=\"00000\">\\r\\n<img id=\"EMI-D00000\" he=\"119.21mm\" wi=\"207.60mm\" file=\"USD0759941-20160628-D00000.TIF\" alt=\"embedded image\" img-content=\"drawing\" img-format=\"tif\"/>\\r\\n</figure>\\r\\n<figure id=\"Fig-EMI-D00001\" num=\"00001\">\\r\\n<img id=\"EMI-D00001\" he=\"211.67mm\" wi=\"126.15mm\" orientation=\"landscape\" file=\"USD0759941-20160628-D00001.TIF\" alt=\"embedded image\" img-content=\"drawing\" img-format=\"tif\"/>\\r\\n</figure>\\r\\n<figure id=\"Fig-EMI-D00002\" num=\"00002\">\\r\\n<img id=\"EMI-D00002\" he=\"144.36mm\" wi=\"170.43mm\" file=\"USD0759941-20160628-D00002.TIF\" alt=\"embedded image\" img-content=\"drawing\" img-format=\"tif\"/>\\r\\n</figure>\\r\\n<figure id=\"Fig-EMI-D00003\" num=\"00003\">\\r\\n<img id=\"EMI-D00003\" he=\"183.30mm\" wi=\"143.34mm\" file=\"USD0759941-20160628-D00003.TIF\" alt=\"embedded image\" img-content=\"drawing\" img-format=\"tif\"/>\\r\\n</figure>\\r\\n</drawings>\\r\\n<description id=\"description\">\\r\\n<?brief-description-of-drawings description=\"Brief Description of Drawings\" end=\"lead\"?>\\r\\n<description-of-drawings>\\r\\n<p id=\"p-0001\" num=\"0001\"><figref idref=\"DRAWINGS\">FIG. 1</figref> is a top, left-side, and front perspective view of a chocolate-covered confection showing the new design;</p>\\r\\n<p id=\"p-0002\" num=\"0002\"><figref idref=\"DRAWINGS\">FIG. 2</figref> is a left-side plan view thereof (the right-side plan view thereof is a mirror image of the left-side plan view provided in <figref idref=\"DRAWINGS\">FIG. 2</figref>);</p>\\r\\n<p id=\"p-0003\" num=\"0003\"><figref idref=\"DRAWINGS\">FIG. 3</figref> is a front plan view thereof (the rear plan view thereof is a mirror image of the front plan view provided in <figref idref=\"DRAWINGS\">FIG. 3</figref>); and,</p>\\r\\n<p id=\"p-0004\" num=\"0004\"><figref idref=\"DRAWINGS\">FIG. 4</figref> is a top plan view thereof.</p>\\r\\n<p id=\"p-0005\" num=\"0005\">The surfaces or portions not shown in the drawing or described in the specification form no part of the claimed design.</p>\\r\\n</description-of-drawings>\\r\\n<?brief-description-of-drawings description=\"Brief Description of Drawings\" end=\"tail\"?>\\r\\n</description>\\r\\n<us-claim-statement>CLAIM</us-claim-statement>\\r\\n<claims id=\"claims\">\\r\\n<claim id=\"CLM-00001\" num=\"00001\">\\r\\n<claim-text>The ornamental design for a chocolate-covered confection, as shown and described.</claim-text>\\r\\n</claim>\\r\\n</claims>\\r\\n</us-patent-grant>\\r\\n'"
      ]
     },
     "execution_count": 104,
     "metadata": {},
     "output_type": "execute_result"
    }
   ],
   "source": [
    "data_as_string"
   ]
  },
  {
   "cell_type": "code",
   "execution_count": 105,
   "metadata": {
    "collapsed": false
   },
   "outputs": [
    {
     "name": "stdout",
     "output_type": "stream",
     "text": [
      "[]\n",
      "[<Element 'description' at 0x110528890>]\n",
      "[<Element 'claim' at 0x110528d50>]\n"
     ]
    }
   ],
   "source": [
    "root.findall('.')\n",
    "print root.findall('./abstract')\n",
    "print root.findall('./description')\n",
    "print root.findall('./claims/claim')"
   ]
  },
  {
   "cell_type": "code",
   "execution_count": 60,
   "metadata": {
    "collapsed": true
   },
   "outputs": [],
   "source": []
  },
  {
   "cell_type": "code",
   "execution_count": 4,
   "metadata": {
    "collapsed": false
   },
   "outputs": [],
   "source": [
    "url = 'http://patents.reedtech.com/pgrbft.php'\n",
    "u = urlopen(url)\n",
    "try:\n",
    "    html = u.read().decode('utf-8')\n",
    "finally:\n",
    "    u.close()\n",
    "\n",
    "soup = BeautifulSoup(html)"
   ]
  },
  {
   "cell_type": "code",
   "execution_count": 11,
   "metadata": {
    "collapsed": false
   },
   "outputs": [
    {
     "name": "stdout",
     "output_type": "stream",
     "text": [
      "CPU times: user 3 µs, sys: 1 µs, total: 4 µs\n",
      "Wall time: 6.91 µs\n"
     ]
    }
   ],
   "source": [
    "%time\n",
    "for link in soup.select('a'):\n",
    "    if link.text[-4:] == '.zip':\n",
    "        href = link.get('href')\n",
    "        filename = href.rsplit('/', 1)[-1]\n",
    "        href = urljoin(url, quote(href))\n",
    "        try:\n",
    "            urlretrieve(href, filename)\n",
    "            zip_ref = zipfile.ZipFile(ZIP_PATH+'/'+filename, 'r')\n",
    "            zip_ref.extractall(EXTRACT_DATA_PATH)\n",
    "            zip_ref.close()\n",
    "        except:\n",
    "            print('failed to download') #write to csv if it failed\n",
    "        break     "
   ]
  },
  {
   "cell_type": "code",
   "execution_count": 12,
   "metadata": {
    "collapsed": false
   },
   "outputs": [
    {
     "name": "stdout",
     "output_type": "stream",
     "text": [
      "ipg160705.zip\n"
     ]
    }
   ],
   "source": [
    "print filename"
   ]
  },
  {
   "cell_type": "code",
   "execution_count": 13,
   "metadata": {
    "collapsed": false
   },
   "outputs": [
    {
     "name": "stdout",
     "output_type": "stream",
     "text": [
      "ipg160705.xml\n"
     ]
    }
   ],
   "source": [
    "os.remove(filename)\n",
    "unzipped_fname = filename.split('.')[0] + '.xml'\n",
    "\n",
    "print unzipped_fname"
   ]
  },
  {
   "cell_type": "code",
   "execution_count": 16,
   "metadata": {
    "collapsed": false
   },
   "outputs": [],
   "source": [
    "start = time()\n",
    "move_to_s3(unzipped_fname)\n",
    "print (time()-start)/60./60."
   ]
  },
  {
   "cell_type": "code",
   "execution_count": 17,
   "metadata": {
    "collapsed": true
   },
   "outputs": [],
   "source": [
    "os.remove(EXTRACT_DATA_PATH + unzipped_fname)"
   ]
  },
  {
   "cell_type": "code",
   "execution_count": null,
   "metadata": {
    "collapsed": true
   },
   "outputs": [],
   "source": []
  },
  {
   "cell_type": "code",
   "execution_count": null,
   "metadata": {
    "collapsed": true
   },
   "outputs": [],
   "source": []
  },
  {
   "cell_type": "code",
   "execution_count": 15,
   "metadata": {
    "collapsed": true
   },
   "outputs": [],
   "source": [
    "def move_to_s3(filename):\n",
    "    '''\n",
    "    DOCSTRING: move_to_s3\n",
    "\n",
    "    Move .zip files to S3.  Print to csv: timestamp, filename, success(1/0)\n",
    "\n",
    "    Returns: None\n",
    "    '''\n",
    "\n",
    "    tmp_dir = '../data/'\n",
    "    tmp_fname = filename\n",
    "\n",
    "    target_bucket = 'patentgrants'\n",
    "    s3 = boto3.resource('s3')\n",
    "\n",
    "    try:\n",
    "        s3.Object(target_bucket, tmp_fname).put(Body=open(tmp_dir + tmp_fname, 'rb'))\n",
    "    except Exception as e:\n",
    "        print e\n",
    "    finally:\n",
    "        return"
   ]
  },
  {
   "cell_type": "code",
   "execution_count": null,
   "metadata": {
    "collapsed": true
   },
   "outputs": [],
   "source": []
  },
  {
   "cell_type": "code",
   "execution_count": null,
   "metadata": {
    "collapsed": true
   },
   "outputs": [],
   "source": []
  },
  {
   "cell_type": "code",
   "execution_count": null,
   "metadata": {
    "collapsed": true
   },
   "outputs": [],
   "source": []
  },
  {
   "cell_type": "code",
   "execution_count": null,
   "metadata": {
    "collapsed": true
   },
   "outputs": [],
   "source": []
  },
  {
   "cell_type": "code",
   "execution_count": 83,
   "metadata": {
    "collapsed": false
   },
   "outputs": [],
   "source": [
    "\n",
    "url = 'http://patents.reedtech.com/pgrbft.php'\n",
    "\n",
    "def get_data(url):\n",
    "    u = urlopen(url)\n",
    "    try:\n",
    "        html = u.read().decode('utf-8')\n",
    "    finally:\n",
    "        u.close()\n",
    "\n",
    "    soup = BeautifulSoup(html)\n",
    "    \n",
    "    for link in soup.select('a'):\n",
    "        if link.text[-4:] == '.zip':    \n",
    "            href = link.get('href')\n",
    "            filename = href.rsplit('/', 1)[-1]\n",
    "            href = urljoin(url, quote(href))\n",
    "            try:\n",
    "                urlretrieve(href, filename)\n",
    "                zip_ref = zipfile.ZipFile(ZIP_PATH+'/'+filename, 'r')\n",
    "                zip_ref.extractall(EXTRACT_DATA_PATH)\n",
    "                zip_ref.close()\n",
    "            except:\n",
    "                print('failed to download')\n",
    "            \n",
    "            return"
   ]
  },
  {
   "cell_type": "code",
   "execution_count": null,
   "metadata": {
    "collapsed": false
   },
   "outputs": [],
   "source": []
  },
  {
   "cell_type": "code",
   "execution_count": null,
   "metadata": {
    "collapsed": false
   },
   "outputs": [],
   "source": []
  },
  {
   "cell_type": "code",
   "execution_count": 160,
   "metadata": {
    "collapsed": false
   },
   "outputs": [
    {
     "name": "stdout",
     "output_type": "stream",
     "text": [
      "A new garden rose plant of the Miniature class which has abundant, yellow flowers and attractive foliage. This new and distinct variety has shown to be uniform and stable in the resulting generations from asexual propagation.\n",
      "A new garden rose plant of the Miniature class which has abundant, yellow flowers and attractive foliage. This new and distinct variety has shown to be uniform and stable in the resulting generations from asexual propagation.\n",
      "A new and distinct variety of rose with long lasting, novel orange-red flowers, and attractive foliage with very good disease resistance. It exhibits upright growth with abundant flowers. The new variety propagates well from cuttings and by grafting. This new and distinct variety has shown to be uniform and stable in the resulting generations from asexual propagation.\n",
      "A new peach variety (\n",
      "A new cultivar of\n",
      "A new and distinct cultivar of Strawberry plant named ‘Vivaldi’, characterized by its compact and semi-upright plant habit; moderately vigorous to vigorous growth habit; uniform fruit ripening; medium-sized conical fruits that are glossy and bright red in color; pleasant fruit aroma and taste; excellent fruit postharvest longevity; and resistance to\n"
     ]
    },
    {
     "ename": "UnicodeEncodeError",
     "evalue": "'ascii' codec can't encode character u'\\xb0' in position 327: ordinal not in range(128)",
     "output_type": "error",
     "traceback": [
      "\u001b[0;31m---------------------------------------------------------------------------\u001b[0m",
      "\u001b[0;31mUnicodeEncodeError\u001b[0m                        Traceback (most recent call last)",
      "\u001b[0;32m<ipython-input-160-75e05bed7599>\u001b[0m in \u001b[0;36m<module>\u001b[0;34m()\u001b[0m\n\u001b[1;32m     38\u001b[0m                         \u001b[0mclaims\u001b[0m\u001b[0;34m.\u001b[0m\u001b[0mappend\u001b[0m\u001b[0;34m(\u001b[0m\u001b[0mcs\u001b[0m\u001b[0;34m.\u001b[0m\u001b[0mtext\u001b[0m\u001b[0;34m.\u001b[0m\u001b[0mstrip\u001b[0m\u001b[0;34m(\u001b[0m\u001b[0;34m)\u001b[0m\u001b[0;34m)\u001b[0m\u001b[0;34m\u001b[0m\u001b[0m\n\u001b[1;32m     39\u001b[0m         \u001b[0mrow\u001b[0m \u001b[0;34m=\u001b[0m \u001b[0mabstract\u001b[0m\u001b[0;34m,\u001b[0m \u001b[0mdescription\u001b[0m\u001b[0;34m,\u001b[0m \u001b[0mclaims\u001b[0m\u001b[0;34m\u001b[0m\u001b[0m\n\u001b[0;32m---> 40\u001b[0;31m         \u001b[0mwriter\u001b[0m\u001b[0;34m.\u001b[0m\u001b[0mwriterow\u001b[0m\u001b[0;34m(\u001b[0m\u001b[0mrow\u001b[0m\u001b[0;34m)\u001b[0m\u001b[0;34m\u001b[0m\u001b[0m\n\u001b[0m",
      "\u001b[0;31mUnicodeEncodeError\u001b[0m: 'ascii' codec can't encode character u'\\xb0' in position 327: ordinal not in range(128)"
     ]
    }
   ],
   "source": [
    "counter = 0\n",
    "data = open_many(1000)\n",
    "# find a way to make each file go through this process\n",
    "# and put into a csv\n",
    "\n",
    "\n",
    "\n",
    "header = ('abstract', 'description', 'claims')\n",
    "\n",
    "with open('parsed_data_test.csv', 'w') as f:\n",
    "    writer = csv.writer(f)\n",
    "    writer.writerow(header)\n",
    "\n",
    "    for i in xrange(len(data)):\n",
    "        abstract = \"\"\n",
    "        description = \"\"\n",
    "        claims = []\n",
    "        \n",
    "        data_as_string = \"\".join(data[i])\n",
    "        try:\n",
    "            root = ET.fromstring(data_as_string)\n",
    "        except:\n",
    "            counter += 1\n",
    "            break\n",
    "            \n",
    "        for child in root:\n",
    "            if child.tag == 'abstract':\n",
    "                for c in child:\n",
    "                    abstract = c.text.encode('utf-8').strip()\n",
    "                    print abstract\n",
    "            if child.tag == 'description':\n",
    "                for c in child:\n",
    "                    description = c.text.strip()\n",
    "            if child.tag == 'claims':\n",
    "                for c in child:\n",
    "                    # print c.tag, c.attrib\n",
    "                    for cs in c:\n",
    "                        claims.append(cs.text.strip())\n",
    "        row = abstract, description, claims\n",
    "        writer.writerow(row)\n"
   ]
  },
  {
   "cell_type": "code",
   "execution_count": 146,
   "metadata": {
    "collapsed": false
   },
   "outputs": [
    {
     "name": "stdout",
     "output_type": "stream",
     "text": [
      "The ornamental design for a chocolate-covered confection, as shown and described.\n"
     ]
    }
   ],
   "source": [
    "for child in root:\n",
    "    if child.tag == 'claims':\n",
    "        for c in child:\n",
    "            for cs in c:\n",
    "                print cs.text\n",
    "        "
   ]
  },
  {
   "cell_type": "code",
   "execution_count": 157,
   "metadata": {
    "collapsed": false
   },
   "outputs": [
    {
     "data": {
      "text/plain": [
       "('',\n",
       " '',\n",
       " ['The ornamental design for a chocolate-covered confection, as shown and described.'])"
      ]
     },
     "execution_count": 157,
     "metadata": {},
     "output_type": "execute_result"
    }
   ],
   "source": [
    "row"
   ]
  },
  {
   "cell_type": "code",
   "execution_count": null,
   "metadata": {
    "collapsed": true
   },
   "outputs": [],
   "source": []
  }
 ],
 "metadata": {
  "kernelspec": {
   "display_name": "Python 2",
   "language": "python",
   "name": "python2"
  },
  "language_info": {
   "codemirror_mode": {
    "name": "ipython",
    "version": 2
   },
   "file_extension": ".py",
   "mimetype": "text/x-python",
   "name": "python",
   "nbconvert_exporter": "python",
   "pygments_lexer": "ipython2",
   "version": "2.7.11"
  }
 },
 "nbformat": 4,
 "nbformat_minor": 0
}
