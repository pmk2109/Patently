{
 "cells": [
  {
   "cell_type": "code",
   "execution_count": 57,
   "metadata": {
    "collapsed": true
   },
   "outputs": [],
   "source": [
    "import pandas as pd\n",
    "import numpy as np\n",
    "import string\n",
    "import sys\n",
    "from sklearn.feature_extraction.text import TfidfVectorizer\n",
    "from nltk.stem.snowball import SnowballStemmer\n",
    "from sklearn.metrics.pairwise import linear_kernel\n",
    "import cPickle as pickle\n",
    "import time\n",
    "import msgpack\n",
    "\n",
    "def load_data(path=None):\n",
    "    '''\n",
    "    DOCSTRING: load_data\n",
    "\n",
    "    Given the 'subset' or 'total' parameter, find the respective .csv file,\n",
    "    read into a csv, parse out relevant fields and pickle the relevant objects.\n",
    "\n",
    "    Returns: Dataframe object, abstracts array, descriptions array, claims array\n",
    "    '''\n",
    "    if path == 'subset':\n",
    "        path = '../data/total_parsed_data_subset.csv'\n",
    "    elif path == 'total':\n",
    "        path = '../data/total_parsed_data.csv'\n",
    "    else:\n",
    "        print \"ERROR: pass a valid path to data as a parameter\"\n",
    "        return\n",
    "\n",
    "    df = pd.read_csv(path)\n",
    "    df.fillna(\"\", inplace=True)\n",
    "\n",
    "\n",
    "    abstracts = df.abstract.values\n",
    "    descriptions = df.description.values\n",
    "    claims = df.claims.values\n",
    "    \n",
    "    df['flat_claims'] = [[e.strip(string.punctuation) for e in w.lower().split()] for w in df.claims.values]\n",
    "    df['flat_claims_str'] = df.flat_claims.apply(lambda x: \" \".join(x))\n",
    "    df['total'] = df.abstract + \" \" + df.description + \" \" + df.flat_claims_str\n",
    "        \n",
    "\n",
    "    return df\n",
    "\n",
    "\n",
    "\n",
    "\n",
    "def vectorize(text, tfidf=None):\n",
    "    '''\n",
    "    DOCSTRING: vectorize\n",
    "\n",
    "    Given raw text, and the optional tfidf parameter, use TfidfVectorizer\n",
    "    to vectorize text.  If tfidf parameter is present, use its vocab\n",
    "    for the input text for relevant comparison.\n",
    "\n",
    "    Returns: (fit_transformed text, tfidf object), (transformed text, __)\n",
    "    '''\n",
    "    if tfidf:\n",
    "        return tfidf.transform(text)\n",
    "    elif tfidf is None:\n",
    "        tfidf = TfidfVectorizer(stop_words='english')\n",
    "        return tfidf.fit_transform(text), tfidf\n",
    "\n",
    "\n",
    "\n",
    "def get_similarity(vocab, idea, n_items=5):\n",
    "    '''\n",
    "    DOCSTRING: get_similarity\n",
    "\n",
    "    For given vocab as tfidf sparse matrix and an input idea to test,\n",
    "    check to make sure the sparse matrix column space is equal and\n",
    "    use cosine similarity and n_items parameter to return the\n",
    "    relevant cosine similarity scores and indices\n",
    "\n",
    "    Returns: cosine similarity scores, indices\n",
    "    '''\n",
    "    if vocab.shape[1] == idea.shape[1]:\n",
    "        pass\n",
    "    else:\n",
    "        print 'ERROR: shape mismatch'\n",
    "        return\n",
    "\n",
    "    cosine_similarity = vocab * idea.T\n",
    "    cs_dense = np.array(cosine_similarity.todense())\n",
    "    cs_array = np.array([float(i) for i in cs_dense])\n",
    "\n",
    "    #indicate how many results to return... currently 10\n",
    "    ind = np.argpartition(cs_array, -n_items)[-n_items:]\n",
    "\n",
    "    #this prints out the top results (unsorted).. these are to be\n",
    "    #transormed into scores\n",
    "    sorted_ind = ind[np.argsort(cs_array[ind])][::-1]\n",
    "    scores = cs_array[sorted_ind]\n",
    "    indices = sorted_ind\n",
    "\n",
    "\n",
    "    return scores, indices\n",
    "\n",
    "\n",
    "\n",
    "\n",
    "def main(path, pkl):\n",
    "\n",
    "    tic = time.clock()\n",
    "    try:\n",
    "        path = path\n",
    "    except:\n",
    "        print \"ERROR: Specify data type [subset/total]\"\n",
    "        return\n",
    "\n",
    "    try:\n",
    "        pkl = pkl\n",
    "    except:\n",
    "        print \"ERROR: Specify pickle behavior [True/False]\"\n",
    "        return\n",
    "\n",
    "\n",
    "    if pkl == 'True':\n",
    "        try:\n",
    "            print 'Loading data...'\n",
    "            df = load_data(path)\n",
    "            total_tfidf, tfidf_t = vectorize(df.total.values)\n",
    "\n",
    "        except:\n",
    "            print 'Error loading data!'\n",
    "            return\n",
    "\n",
    "        print 'Pickling data...'\n",
    "\n",
    "        # think about writing a pickle function that loops\n",
    "        # over a set of items passed in\n",
    "\n",
    "        pickle.dump(total_tfidf, open('../data/total_tfidf.p', 'wb'))\n",
    "        pickle.dump(tfidf_t, open('../data/tfidf_t.p', 'wb'))\n",
    "        df.to_msgpack('../data/dataframe.p')\n",
    "        print 'Finished pickling...'\n",
    "\n",
    "    elif pkl == 'False':\n",
    "        print 'Unpickling data...'\n",
    "        total_tfidf = pickle.load(open('../data/total_tfidf.p', 'rb'))\n",
    "        tfidf_t = pickle.load(open('../data/tfidf_t.p', 'rb'))\n",
    "        df = pd.read_msgpack('../data/dataframe.p')\n",
    "    else:\n",
    "        print \"Second argument to pickle must be [True/False]\"\n",
    "        return\n",
    "\n",
    "    toc = time.clock()\n",
    "    print 'User input (hardcoded)'\n",
    "    text = ['Blood coagulation cold plasma device that kills bacteria']\n",
    "    new_text_tfidf = vectorize(text, tfidf_t)\n",
    "\n",
    "    print 'Getting similarity...'\n",
    "    scores, indices = get_similarity(total_tfidf, new_text_tfidf, 5)\n",
    "\n",
    "    '''\n",
    "    [Index([u'doc_number', u'date', u'publication_type', u'patent_length', u'title',\n",
    "       u'abstract', u'description', u'claims']\n",
    "    '''\n",
    "    df_results = df.loc[indices][['doc_number', 'date', 'title', 'abstract']]\n",
    "    df_results['score'] = scores\n",
    "    print df_results\n",
    "    print time.clock() - tic\n",
    "    return df, abstracts_tfidf, tfidf"
   ]
  },
  {
   "cell_type": "code",
   "execution_count": 59,
   "metadata": {
    "collapsed": false
   },
   "outputs": [
    {
     "name": "stdout",
     "output_type": "stream",
     "text": [
      "Loading data...\n",
      "Pickling data...\n"
     ]
    },
    {
     "ename": "UnboundLocalError",
     "evalue": "local variable 'tfidf_t' referenced before assignment",
     "output_type": "error",
     "traceback": [
      "\u001b[0;31m---------------------------------------------------------------------------\u001b[0m",
      "\u001b[0;31mUnboundLocalError\u001b[0m                         Traceback (most recent call last)",
      "\u001b[0;32m<ipython-input-59-cc41a2d2ea2f>\u001b[0m in \u001b[0;36m<module>\u001b[0;34m()\u001b[0m\n\u001b[0;32m----> 1\u001b[0;31m \u001b[0m_\u001b[0m\u001b[0;34m,\u001b[0m \u001b[0m_\u001b[0m\u001b[0;34m,\u001b[0m \u001b[0m_\u001b[0m \u001b[0;34m=\u001b[0m \u001b[0mmain\u001b[0m\u001b[0;34m(\u001b[0m\u001b[0;34m'subset'\u001b[0m\u001b[0;34m,\u001b[0m \u001b[0;34m'True'\u001b[0m\u001b[0;34m)\u001b[0m\u001b[0;34m\u001b[0m\u001b[0m\n\u001b[0m",
      "\u001b[0;32m<ipython-input-57-6c6d3a4d6fb1>\u001b[0m in \u001b[0;36mmain\u001b[0;34m(path, pkl)\u001b[0m\n\u001b[1;32m    131\u001b[0m \u001b[0;34m\u001b[0m\u001b[0m\n\u001b[1;32m    132\u001b[0m         \u001b[0mpickle\u001b[0m\u001b[0;34m.\u001b[0m\u001b[0mdump\u001b[0m\u001b[0;34m(\u001b[0m\u001b[0mtotal_tfidf\u001b[0m\u001b[0;34m,\u001b[0m \u001b[0mopen\u001b[0m\u001b[0;34m(\u001b[0m\u001b[0;34m'../data/total_tfidf.p'\u001b[0m\u001b[0;34m,\u001b[0m \u001b[0;34m'wb'\u001b[0m\u001b[0;34m)\u001b[0m\u001b[0;34m)\u001b[0m\u001b[0;34m\u001b[0m\u001b[0m\n\u001b[0;32m--> 133\u001b[0;31m         \u001b[0mpickle\u001b[0m\u001b[0;34m.\u001b[0m\u001b[0mdump\u001b[0m\u001b[0;34m(\u001b[0m\u001b[0mtfidf_t\u001b[0m\u001b[0;34m,\u001b[0m \u001b[0mopen\u001b[0m\u001b[0;34m(\u001b[0m\u001b[0;34m'../data/tfidf_t.p'\u001b[0m\u001b[0;34m,\u001b[0m \u001b[0;34m'wb'\u001b[0m\u001b[0;34m)\u001b[0m\u001b[0;34m)\u001b[0m\u001b[0;34m\u001b[0m\u001b[0m\n\u001b[0m\u001b[1;32m    134\u001b[0m         \u001b[0mdf\u001b[0m\u001b[0;34m.\u001b[0m\u001b[0mto_msgpack\u001b[0m\u001b[0;34m(\u001b[0m\u001b[0;34m'../data/dataframe.p'\u001b[0m\u001b[0;34m)\u001b[0m\u001b[0;34m\u001b[0m\u001b[0m\n\u001b[1;32m    135\u001b[0m         \u001b[0;32mprint\u001b[0m \u001b[0;34m'Finished pickling...'\u001b[0m\u001b[0;34m\u001b[0m\u001b[0m\n",
      "\u001b[0;31mUnboundLocalError\u001b[0m: local variable 'tfidf_t' referenced before assignment"
     ]
    }
   ],
   "source": [
    "_, _, _ = main('subset', 'True')"
   ]
  },
  {
   "cell_type": "code",
   "execution_count": 44,
   "metadata": {
    "collapsed": false
   },
   "outputs": [],
   "source": [
    "# df['flat_claims_2'] = [item for sublist in df.claims.values for item in sublist]"
   ]
  },
  {
   "cell_type": "code",
   "execution_count": 46,
   "metadata": {
    "collapsed": false
   },
   "outputs": [],
   "source": [
    "df['flat_claims'] = [[e.strip(string.punctuation) for e in w.lower().split()] for w in df.claims.values]\n",
    "df['flat_claims_str'] = df.flat_claims.apply(lambda x: \" \".join(x))\n",
    "df['total'] = df.abstract + \" \" + df.description + \" \" + df.flat_claims_str"
   ]
  },
  {
   "cell_type": "code",
   "execution_count": 54,
   "metadata": {
    "collapsed": false
   },
   "outputs": [],
   "source": []
  },
  {
   "cell_type": "code",
   "execution_count": null,
   "metadata": {
    "collapsed": false
   },
   "outputs": [],
   "source": []
  },
  {
   "cell_type": "code",
   "execution_count": null,
   "metadata": {
    "collapsed": false
   },
   "outputs": [],
   "source": [
    "\n",
    "print 'Loading data...'\n",
    "df = load_data(path)\n",
    "total_tfidf, tfidf_t = vectorize(df.total.values)\n"
   ]
  },
  {
   "cell_type": "code",
   "execution_count": null,
   "metadata": {
    "collapsed": true
   },
   "outputs": [],
   "source": [
    "print 'Pickling data...'\n",
    "\n",
    "# think about writing a pickle function that loops\n",
    "# over a set of items passed in\n",
    "\n",
    "pickle.dump(total_tfidf, open('../data/total_tfidf.p', 'wb'))\n",
    "pickle.dump(tfidf_t, open('../data/tfidf_t.p', 'wb'))\n",
    "df.to_msgpack('../data/dataframe.p')\n",
    "print 'Finished pickling...'"
   ]
  },
  {
   "cell_type": "code",
   "execution_count": null,
   "metadata": {
    "collapsed": true
   },
   "outputs": [],
   "source": [
    "toc = time.clock()\n",
    "print 'User input (hardcoded)'\n",
    "text = ['Blood coagulation cold plasma device that kills bacteria']\n",
    "new_text_tfidf = vectorize(text, tfidf_t)\n",
    "\n",
    "print 'Getting similarity...'\n",
    "scores, indices = get_similarity(total_tfidf, new_text_tfidf, 5)\n",
    "\n",
    "'''\n",
    "[Index([u'doc_number', u'date', u'publication_type', u'patent_length', u'title',\n",
    "   u'abstract', u'description', u'claims']\n",
    "'''\n",
    "df_results = df.loc[indices][['doc_number', 'date', 'title', 'abstract']]\n",
    "df_results['score'] = scores\n",
    "print df_results\n",
    "print time.clock() - tic"
   ]
  }
 ],
 "metadata": {
  "kernelspec": {
   "display_name": "Python 2",
   "language": "python",
   "name": "python2"
  },
  "language_info": {
   "codemirror_mode": {
    "name": "ipython",
    "version": 2
   },
   "file_extension": ".py",
   "mimetype": "text/x-python",
   "name": "python",
   "nbconvert_exporter": "python",
   "pygments_lexer": "ipython2",
   "version": "2.7.11"
  }
 },
 "nbformat": 4,
 "nbformat_minor": 0
}
